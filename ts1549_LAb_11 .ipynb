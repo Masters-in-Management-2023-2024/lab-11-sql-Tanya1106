{
  "cells": [
    {
      "cell_type": "markdown",
      "metadata": {
        "id": "nt1cUgbq1OHR"
      },
      "source": [
        "# Lab Exercise: SQL Analysis with Polars\n",
        "\n",
        "In this lab, you'll practice SQL queries using Polars' built-in SQL functionality. Complete each exercise by writing the appropriate SQL query."
      ]
    },
    {
      "cell_type": "code",
      "execution_count": null,
      "metadata": {
        "colab": {
          "base_uri": "https://localhost:8080/",
          "height": 922
        },
        "id": "w0BdRp441OHS",
        "outputId": "53dbbf98-5571-4154-a151-897305fe5e11"
      },
      "outputs": [
        {
          "output_type": "stream",
          "name": "stdout",
          "text": [
            "Setup complete! Tables available:\n",
            "shape: (5, 1)\n",
            "┌──────────┐\n",
            "│ name     │\n",
            "│ ---      │\n",
            "│ str      │\n",
            "╞══════════╡\n",
            "│ airlines │\n",
            "│ airports │\n",
            "│ flights  │\n",
            "│ planes   │\n",
            "│ weather  │\n",
            "└──────────┘\n"
          ]
        },
        {
          "output_type": "stream",
          "name": "stderr",
          "text": [
            "/tmp/ipython-input-412811182.py:15: DeprecationWarning: The argument `eager_execution` for `SQLContext.__init__` is deprecated. It has been renamed to `eager`.\n",
            "  ctx = pl.SQLContext(\n"
          ]
        },
        {
          "output_type": "execute_result",
          "data": {
            "text/plain": [
              "shape: (336_776, 19)\n",
              "┌──────┬───────┬─────┬──────────┬───┬──────────┬──────┬────────┬─────────────────────────┐\n",
              "│ year ┆ month ┆ day ┆ dep_time ┆ … ┆ distance ┆ hour ┆ minute ┆ time_hour               │\n",
              "│ ---  ┆ ---   ┆ --- ┆ ---      ┆   ┆ ---      ┆ ---  ┆ ---    ┆ ---                     │\n",
              "│ i64  ┆ i64   ┆ i64 ┆ i64      ┆   ┆ i64      ┆ i64  ┆ i64    ┆ datetime[μs, UTC]       │\n",
              "╞══════╪═══════╪═════╪══════════╪═══╪══════════╪══════╪════════╪═════════════════════════╡\n",
              "│ 2013 ┆ 1     ┆ 1   ┆ 517      ┆ … ┆ 1400     ┆ 5    ┆ 15     ┆ 2013-01-01 10:00:00 UTC │\n",
              "│ 2013 ┆ 1     ┆ 1   ┆ 533      ┆ … ┆ 1416     ┆ 5    ┆ 29     ┆ 2013-01-01 10:00:00 UTC │\n",
              "│ 2013 ┆ 1     ┆ 1   ┆ 542      ┆ … ┆ 1089     ┆ 5    ┆ 40     ┆ 2013-01-01 10:00:00 UTC │\n",
              "│ 2013 ┆ 1     ┆ 1   ┆ 544      ┆ … ┆ 1576     ┆ 5    ┆ 45     ┆ 2013-01-01 10:00:00 UTC │\n",
              "│ 2013 ┆ 1     ┆ 1   ┆ 554      ┆ … ┆ 762      ┆ 6    ┆ 0      ┆ 2013-01-01 11:00:00 UTC │\n",
              "│ …    ┆ …     ┆ …   ┆ …        ┆ … ┆ …        ┆ …    ┆ …      ┆ …                       │\n",
              "│ 2013 ┆ 9     ┆ 30  ┆ null     ┆ … ┆ 213      ┆ 14   ┆ 55     ┆ 2013-09-30 18:00:00 UTC │\n",
              "│ 2013 ┆ 9     ┆ 30  ┆ null     ┆ … ┆ 198      ┆ 22   ┆ 0      ┆ 2013-10-01 02:00:00 UTC │\n",
              "│ 2013 ┆ 9     ┆ 30  ┆ null     ┆ … ┆ 764      ┆ 12   ┆ 10     ┆ 2013-09-30 16:00:00 UTC │\n",
              "│ 2013 ┆ 9     ┆ 30  ┆ null     ┆ … ┆ 419      ┆ 11   ┆ 59     ┆ 2013-09-30 15:00:00 UTC │\n",
              "│ 2013 ┆ 9     ┆ 30  ┆ null     ┆ … ┆ 431      ┆ 8    ┆ 40     ┆ 2013-09-30 12:00:00 UTC │\n",
              "└──────┴───────┴─────┴──────────┴───┴──────────┴──────┴────────┴─────────────────────────┘"
            ],
            "text/html": [
              "<div><style>\n",
              ".dataframe > thead > tr,\n",
              ".dataframe > tbody > tr {\n",
              "  text-align: right;\n",
              "  white-space: pre-wrap;\n",
              "}\n",
              "</style>\n",
              "<small>shape: (336_776, 19)</small><table border=\"1\" class=\"dataframe\"><thead><tr><th>year</th><th>month</th><th>day</th><th>dep_time</th><th>sched_dep_time</th><th>dep_delay</th><th>arr_time</th><th>sched_arr_time</th><th>arr_delay</th><th>carrier</th><th>flight</th><th>tailnum</th><th>origin</th><th>dest</th><th>air_time</th><th>distance</th><th>hour</th><th>minute</th><th>time_hour</th></tr><tr><td>i64</td><td>i64</td><td>i64</td><td>i64</td><td>i64</td><td>i64</td><td>i64</td><td>i64</td><td>i64</td><td>str</td><td>i64</td><td>str</td><td>str</td><td>str</td><td>i64</td><td>i64</td><td>i64</td><td>i64</td><td>datetime[μs, UTC]</td></tr></thead><tbody><tr><td>2013</td><td>1</td><td>1</td><td>517</td><td>515</td><td>2</td><td>830</td><td>819</td><td>11</td><td>&quot;UA&quot;</td><td>1545</td><td>&quot;N14228&quot;</td><td>&quot;EWR&quot;</td><td>&quot;IAH&quot;</td><td>227</td><td>1400</td><td>5</td><td>15</td><td>2013-01-01 10:00:00 UTC</td></tr><tr><td>2013</td><td>1</td><td>1</td><td>533</td><td>529</td><td>4</td><td>850</td><td>830</td><td>20</td><td>&quot;UA&quot;</td><td>1714</td><td>&quot;N24211&quot;</td><td>&quot;LGA&quot;</td><td>&quot;IAH&quot;</td><td>227</td><td>1416</td><td>5</td><td>29</td><td>2013-01-01 10:00:00 UTC</td></tr><tr><td>2013</td><td>1</td><td>1</td><td>542</td><td>540</td><td>2</td><td>923</td><td>850</td><td>33</td><td>&quot;AA&quot;</td><td>1141</td><td>&quot;N619AA&quot;</td><td>&quot;JFK&quot;</td><td>&quot;MIA&quot;</td><td>160</td><td>1089</td><td>5</td><td>40</td><td>2013-01-01 10:00:00 UTC</td></tr><tr><td>2013</td><td>1</td><td>1</td><td>544</td><td>545</td><td>-1</td><td>1004</td><td>1022</td><td>-18</td><td>&quot;B6&quot;</td><td>725</td><td>&quot;N804JB&quot;</td><td>&quot;JFK&quot;</td><td>&quot;BQN&quot;</td><td>183</td><td>1576</td><td>5</td><td>45</td><td>2013-01-01 10:00:00 UTC</td></tr><tr><td>2013</td><td>1</td><td>1</td><td>554</td><td>600</td><td>-6</td><td>812</td><td>837</td><td>-25</td><td>&quot;DL&quot;</td><td>461</td><td>&quot;N668DN&quot;</td><td>&quot;LGA&quot;</td><td>&quot;ATL&quot;</td><td>116</td><td>762</td><td>6</td><td>0</td><td>2013-01-01 11:00:00 UTC</td></tr><tr><td>&hellip;</td><td>&hellip;</td><td>&hellip;</td><td>&hellip;</td><td>&hellip;</td><td>&hellip;</td><td>&hellip;</td><td>&hellip;</td><td>&hellip;</td><td>&hellip;</td><td>&hellip;</td><td>&hellip;</td><td>&hellip;</td><td>&hellip;</td><td>&hellip;</td><td>&hellip;</td><td>&hellip;</td><td>&hellip;</td><td>&hellip;</td></tr><tr><td>2013</td><td>9</td><td>30</td><td>null</td><td>1455</td><td>null</td><td>null</td><td>1634</td><td>null</td><td>&quot;9E&quot;</td><td>3393</td><td>null</td><td>&quot;JFK&quot;</td><td>&quot;DCA&quot;</td><td>null</td><td>213</td><td>14</td><td>55</td><td>2013-09-30 18:00:00 UTC</td></tr><tr><td>2013</td><td>9</td><td>30</td><td>null</td><td>2200</td><td>null</td><td>null</td><td>2312</td><td>null</td><td>&quot;9E&quot;</td><td>3525</td><td>null</td><td>&quot;LGA&quot;</td><td>&quot;SYR&quot;</td><td>null</td><td>198</td><td>22</td><td>0</td><td>2013-10-01 02:00:00 UTC</td></tr><tr><td>2013</td><td>9</td><td>30</td><td>null</td><td>1210</td><td>null</td><td>null</td><td>1330</td><td>null</td><td>&quot;MQ&quot;</td><td>3461</td><td>&quot;N535MQ&quot;</td><td>&quot;LGA&quot;</td><td>&quot;BNA&quot;</td><td>null</td><td>764</td><td>12</td><td>10</td><td>2013-09-30 16:00:00 UTC</td></tr><tr><td>2013</td><td>9</td><td>30</td><td>null</td><td>1159</td><td>null</td><td>null</td><td>1344</td><td>null</td><td>&quot;MQ&quot;</td><td>3572</td><td>&quot;N511MQ&quot;</td><td>&quot;LGA&quot;</td><td>&quot;CLE&quot;</td><td>null</td><td>419</td><td>11</td><td>59</td><td>2013-09-30 15:00:00 UTC</td></tr><tr><td>2013</td><td>9</td><td>30</td><td>null</td><td>840</td><td>null</td><td>null</td><td>1020</td><td>null</td><td>&quot;MQ&quot;</td><td>3531</td><td>&quot;N839MQ&quot;</td><td>&quot;LGA&quot;</td><td>&quot;RDU&quot;</td><td>null</td><td>431</td><td>8</td><td>40</td><td>2013-09-30 12:00:00 UTC</td></tr></tbody></table></div>"
            ]
          },
          "metadata": {},
          "execution_count": 1
        }
      ],
      "source": [
        "# Setup - Run this cell first\n",
        "import polars as pl\n",
        "\n",
        "# Load data\n",
        "airlines = pl.read_csv('https://raw.githubusercontent.com/philhetzel/opan5510-class11/refs/heads/main/data/nyc_airlines.csv')\n",
        "airports = pl.read_csv('https://raw.githubusercontent.com/philhetzel/opan5510-class11/refs/heads/main/data/nyc_airports.csv')\n",
        "flights = pl.read_csv('https://raw.githubusercontent.com/philhetzel/opan5510-class11/refs/heads/main/data/nyc_flights.csv',null_values='NA')\n",
        "planes = pl.read_csv('https://raw.githubusercontent.com/philhetzel/opan5510-class11/refs/heads/main/data/nyc_planes.csv',null_values='NA')\n",
        "weather = pl.read_csv('https://raw.githubusercontent.com/philhetzel/opan5510-class11/refs/heads/main/data/nyc_weather.csv',null_values='NA', infer_schema_length=1000)\n",
        "\n",
        "flights = flights.with_columns(pl.col(\"time_hour\").str.strptime(pl.Datetime))\n",
        "weather = weather.with_columns(pl.col(\"time_hour\").str.strptime(pl.Datetime))\n",
        "\n",
        "# Create SQL context\n",
        "ctx = pl.SQLContext(\n",
        "    airlines=airlines,\n",
        "    airports=airports,\n",
        "    flights=flights,\n",
        "    planes=planes,\n",
        "    weather=weather,\n",
        "    eager_execution=True\n",
        ")\n",
        "\n",
        "print(\"Setup complete! Tables available:\")\n",
        "print(ctx.execute(\"SHOW TABLES\"))\n",
        "flights"
      ]
    },
    {
      "cell_type": "markdown",
      "metadata": {
        "id": "Y1JEaImU1OHT"
      },
      "source": [
        "## Exercise 1: Basic Queries\n",
        "\n",
        "### 1.1 Find all unique carriers in the airlines table"
      ]
    },
    {
      "cell_type": "code",
      "execution_count": null,
      "metadata": {
        "colab": {
          "base_uri": "https://localhost:8080/",
          "height": 443
        },
        "id": "6An8jSbZ1OHT",
        "outputId": "5e41dbd5-bea1-4885-a977-e8e96b9142e5"
      },
      "outputs": [
        {
          "output_type": "execute_result",
          "data": {
            "text/plain": [
              "shape: (16, 1)\n",
              "┌─────────┐\n",
              "│ carrier │\n",
              "│ ---     │\n",
              "│ str     │\n",
              "╞═════════╡\n",
              "│ 9E      │\n",
              "│ AA      │\n",
              "│ AS      │\n",
              "│ B6      │\n",
              "│ DL      │\n",
              "│ …       │\n",
              "│ UA      │\n",
              "│ US      │\n",
              "│ VX      │\n",
              "│ WN      │\n",
              "│ YV      │\n",
              "└─────────┘"
            ],
            "text/html": [
              "<div><style>\n",
              ".dataframe > thead > tr,\n",
              ".dataframe > tbody > tr {\n",
              "  text-align: right;\n",
              "  white-space: pre-wrap;\n",
              "}\n",
              "</style>\n",
              "<small>shape: (16, 1)</small><table border=\"1\" class=\"dataframe\"><thead><tr><th>carrier</th></tr><tr><td>str</td></tr></thead><tbody><tr><td>&quot;9E&quot;</td></tr><tr><td>&quot;AA&quot;</td></tr><tr><td>&quot;AS&quot;</td></tr><tr><td>&quot;B6&quot;</td></tr><tr><td>&quot;DL&quot;</td></tr><tr><td>&hellip;</td></tr><tr><td>&quot;UA&quot;</td></tr><tr><td>&quot;US&quot;</td></tr><tr><td>&quot;VX&quot;</td></tr><tr><td>&quot;WN&quot;</td></tr><tr><td>&quot;YV&quot;</td></tr></tbody></table></div>"
            ]
          },
          "metadata": {},
          "execution_count": 45
        }
      ],
      "source": [
        "# Write your SQL query here\n",
        "result = ctx.execute(\"\"\"\n",
        "SELECT DISTINCT carrier\n",
        "FROM airlines\n",
        "\"\"\")\n",
        "\n",
        "#print(result)\n",
        "result"
      ]
    },
    {
      "cell_type": "markdown",
      "metadata": {
        "id": "b2Puhmd41OHT"
      },
      "source": [
        "### 1.2 Find the top 10 destinations by number of flights"
      ]
    },
    {
      "cell_type": "code",
      "execution_count": null,
      "metadata": {
        "colab": {
          "base_uri": "https://localhost:8080/",
          "height": 412
        },
        "id": "wkIhNvTC1OHT",
        "outputId": "73866438-8965-4997-e9ca-f22f623c93a3"
      },
      "outputs": [
        {
          "output_type": "execute_result",
          "data": {
            "text/plain": [
              "shape: (10, 2)\n",
              "┌──────┬──────────────┐\n",
              "│ dest ┆ flight_count │\n",
              "│ ---  ┆ ---          │\n",
              "│ str  ┆ u32          │\n",
              "╞══════╪══════════════╡\n",
              "│ ORD  ┆ 17283        │\n",
              "│ ATL  ┆ 17215        │\n",
              "│ LAX  ┆ 16174        │\n",
              "│ BOS  ┆ 15508        │\n",
              "│ MCO  ┆ 14082        │\n",
              "│ CLT  ┆ 14064        │\n",
              "│ SFO  ┆ 13331        │\n",
              "│ FLL  ┆ 12055        │\n",
              "│ MIA  ┆ 11728        │\n",
              "│ DCA  ┆ 9705         │\n",
              "└──────┴──────────────┘"
            ],
            "text/html": [
              "<div><style>\n",
              ".dataframe > thead > tr,\n",
              ".dataframe > tbody > tr {\n",
              "  text-align: right;\n",
              "  white-space: pre-wrap;\n",
              "}\n",
              "</style>\n",
              "<small>shape: (10, 2)</small><table border=\"1\" class=\"dataframe\"><thead><tr><th>dest</th><th>flight_count</th></tr><tr><td>str</td><td>u32</td></tr></thead><tbody><tr><td>&quot;ORD&quot;</td><td>17283</td></tr><tr><td>&quot;ATL&quot;</td><td>17215</td></tr><tr><td>&quot;LAX&quot;</td><td>16174</td></tr><tr><td>&quot;BOS&quot;</td><td>15508</td></tr><tr><td>&quot;MCO&quot;</td><td>14082</td></tr><tr><td>&quot;CLT&quot;</td><td>14064</td></tr><tr><td>&quot;SFO&quot;</td><td>13331</td></tr><tr><td>&quot;FLL&quot;</td><td>12055</td></tr><tr><td>&quot;MIA&quot;</td><td>11728</td></tr><tr><td>&quot;DCA&quot;</td><td>9705</td></tr></tbody></table></div>"
            ]
          },
          "metadata": {},
          "execution_count": 44
        }
      ],
      "source": [
        "# Write your SQL query here\n",
        "result = ctx.execute(\"\"\"\n",
        "SELECT dest, COUNT(*) AS flight_count\n",
        "FROM flights\n",
        "GROUP BY dest\n",
        "ORDER BY flight_count DESC\n",
        "LIMIT 10\n",
        "\"\"\")\n",
        "\n",
        "#print(result)\n",
        "result"
      ]
    },
    {
      "cell_type": "markdown",
      "metadata": {
        "id": "9t-6iegm1OHT"
      },
      "source": [
        "### 1.3 Find all flights that departed more than 2 hours late (120 minutes)"
      ]
    },
    {
      "cell_type": "code",
      "execution_count": null,
      "metadata": {
        "colab": {
          "base_uri": "https://localhost:8080/",
          "height": 654
        },
        "id": "XJDkW7B41OHV",
        "outputId": "a2b905df-fa84-4d27-e21b-d7837724105b"
      },
      "outputs": [
        {
          "output_type": "execute_result",
          "data": {
            "text/plain": [
              "shape: (9_723, 19)\n",
              "┌──────┬───────┬─────┬──────────┬───┬──────────┬──────┬────────┬─────────────────────────┐\n",
              "│ year ┆ month ┆ day ┆ dep_time ┆ … ┆ distance ┆ hour ┆ minute ┆ time_hour               │\n",
              "│ ---  ┆ ---   ┆ --- ┆ ---      ┆   ┆ ---      ┆ ---  ┆ ---    ┆ ---                     │\n",
              "│ i64  ┆ i64   ┆ i64 ┆ i64      ┆   ┆ i64      ┆ i64  ┆ i64    ┆ datetime[μs, UTC]       │\n",
              "╞══════╪═══════╪═════╪══════════╪═══╪══════════╪══════╪════════╪═════════════════════════╡\n",
              "│ 2013 ┆ 1     ┆ 1   ┆ 848      ┆ … ┆ 184      ┆ 18   ┆ 35     ┆ 2013-01-01 23:00:00 UTC │\n",
              "│ 2013 ┆ 1     ┆ 1   ┆ 957      ┆ … ┆ 200      ┆ 7    ┆ 33     ┆ 2013-01-01 12:00:00 UTC │\n",
              "│ 2013 ┆ 1     ┆ 1   ┆ 1114     ┆ … ┆ 1416     ┆ 9    ┆ 0      ┆ 2013-01-01 14:00:00 UTC │\n",
              "│ 2013 ┆ 1     ┆ 1   ┆ 1540     ┆ … ┆ 1598     ┆ 13   ┆ 38     ┆ 2013-01-01 18:00:00 UTC │\n",
              "│ 2013 ┆ 1     ┆ 1   ┆ 1815     ┆ … ┆ 1134     ┆ 13   ┆ 25     ┆ 2013-01-01 18:00:00 UTC │\n",
              "│ …    ┆ …     ┆ …   ┆ …        ┆ … ┆ …        ┆ …    ┆ …      ┆ …                       │\n",
              "│ 2013 ┆ 9     ┆ 30  ┆ 1823     ┆ … ┆ 765      ┆ 15   ┆ 45     ┆ 2013-09-30 19:00:00 UTC │\n",
              "│ 2013 ┆ 9     ┆ 30  ┆ 1951     ┆ … ┆ 708      ┆ 16   ┆ 49     ┆ 2013-09-30 20:00:00 UTC │\n",
              "│ 2013 ┆ 9     ┆ 30  ┆ 2053     ┆ … ┆ 746      ┆ 18   ┆ 15     ┆ 2013-09-30 22:00:00 UTC │\n",
              "│ 2013 ┆ 9     ┆ 30  ┆ 2159     ┆ … ┆ 301      ┆ 18   ┆ 45     ┆ 2013-09-30 22:00:00 UTC │\n",
              "│ 2013 ┆ 9     ┆ 30  ┆ 2235     ┆ … ┆ 944      ┆ 20   ┆ 1      ┆ 2013-10-01 00:00:00 UTC │\n",
              "└──────┴───────┴─────┴──────────┴───┴──────────┴──────┴────────┴─────────────────────────┘"
            ],
            "text/html": [
              "<div><style>\n",
              ".dataframe > thead > tr,\n",
              ".dataframe > tbody > tr {\n",
              "  text-align: right;\n",
              "  white-space: pre-wrap;\n",
              "}\n",
              "</style>\n",
              "<small>shape: (9_723, 19)</small><table border=\"1\" class=\"dataframe\"><thead><tr><th>year</th><th>month</th><th>day</th><th>dep_time</th><th>sched_dep_time</th><th>dep_delay</th><th>arr_time</th><th>sched_arr_time</th><th>arr_delay</th><th>carrier</th><th>flight</th><th>tailnum</th><th>origin</th><th>dest</th><th>air_time</th><th>distance</th><th>hour</th><th>minute</th><th>time_hour</th></tr><tr><td>i64</td><td>i64</td><td>i64</td><td>i64</td><td>i64</td><td>i64</td><td>i64</td><td>i64</td><td>i64</td><td>str</td><td>i64</td><td>str</td><td>str</td><td>str</td><td>i64</td><td>i64</td><td>i64</td><td>i64</td><td>datetime[μs, UTC]</td></tr></thead><tbody><tr><td>2013</td><td>1</td><td>1</td><td>848</td><td>1835</td><td>853</td><td>1001</td><td>1950</td><td>851</td><td>&quot;MQ&quot;</td><td>3944</td><td>&quot;N942MQ&quot;</td><td>&quot;JFK&quot;</td><td>&quot;BWI&quot;</td><td>41</td><td>184</td><td>18</td><td>35</td><td>2013-01-01 23:00:00 UTC</td></tr><tr><td>2013</td><td>1</td><td>1</td><td>957</td><td>733</td><td>144</td><td>1056</td><td>853</td><td>123</td><td>&quot;UA&quot;</td><td>856</td><td>&quot;N534UA&quot;</td><td>&quot;EWR&quot;</td><td>&quot;BOS&quot;</td><td>37</td><td>200</td><td>7</td><td>33</td><td>2013-01-01 12:00:00 UTC</td></tr><tr><td>2013</td><td>1</td><td>1</td><td>1114</td><td>900</td><td>134</td><td>1447</td><td>1222</td><td>145</td><td>&quot;UA&quot;</td><td>1086</td><td>&quot;N76502&quot;</td><td>&quot;LGA&quot;</td><td>&quot;IAH&quot;</td><td>248</td><td>1416</td><td>9</td><td>0</td><td>2013-01-01 14:00:00 UTC</td></tr><tr><td>2013</td><td>1</td><td>1</td><td>1540</td><td>1338</td><td>122</td><td>2020</td><td>1825</td><td>115</td><td>&quot;B6&quot;</td><td>705</td><td>&quot;N570JB&quot;</td><td>&quot;JFK&quot;</td><td>&quot;SJU&quot;</td><td>193</td><td>1598</td><td>13</td><td>38</td><td>2013-01-01 18:00:00 UTC</td></tr><tr><td>2013</td><td>1</td><td>1</td><td>1815</td><td>1325</td><td>290</td><td>2120</td><td>1542</td><td>338</td><td>&quot;EV&quot;</td><td>4417</td><td>&quot;N17185&quot;</td><td>&quot;EWR&quot;</td><td>&quot;OMA&quot;</td><td>213</td><td>1134</td><td>13</td><td>25</td><td>2013-01-01 18:00:00 UTC</td></tr><tr><td>&hellip;</td><td>&hellip;</td><td>&hellip;</td><td>&hellip;</td><td>&hellip;</td><td>&hellip;</td><td>&hellip;</td><td>&hellip;</td><td>&hellip;</td><td>&hellip;</td><td>&hellip;</td><td>&hellip;</td><td>&hellip;</td><td>&hellip;</td><td>&hellip;</td><td>&hellip;</td><td>&hellip;</td><td>&hellip;</td><td>&hellip;</td></tr><tr><td>2013</td><td>9</td><td>30</td><td>1823</td><td>1545</td><td>158</td><td>1934</td><td>1733</td><td>121</td><td>&quot;9E&quot;</td><td>3459</td><td>&quot;N916XJ&quot;</td><td>&quot;JFK&quot;</td><td>&quot;BNA&quot;</td><td>95</td><td>765</td><td>15</td><td>45</td><td>2013-09-30 19:00:00 UTC</td></tr><tr><td>2013</td><td>9</td><td>30</td><td>1951</td><td>1649</td><td>182</td><td>2157</td><td>1903</td><td>174</td><td>&quot;EV&quot;</td><td>4294</td><td>&quot;N13988&quot;</td><td>&quot;EWR&quot;</td><td>&quot;SAV&quot;</td><td>95</td><td>708</td><td>16</td><td>49</td><td>2013-09-30 20:00:00 UTC</td></tr><tr><td>2013</td><td>9</td><td>30</td><td>2053</td><td>1815</td><td>158</td><td>2310</td><td>2054</td><td>136</td><td>&quot;EV&quot;</td><td>5292</td><td>&quot;N600QX&quot;</td><td>&quot;EWR&quot;</td><td>&quot;ATL&quot;</td><td>91</td><td>746</td><td>18</td><td>15</td><td>2013-09-30 22:00:00 UTC</td></tr><tr><td>2013</td><td>9</td><td>30</td><td>2159</td><td>1845</td><td>194</td><td>2344</td><td>2030</td><td>194</td><td>&quot;9E&quot;</td><td>3320</td><td>&quot;N906XJ&quot;</td><td>&quot;JFK&quot;</td><td>&quot;BUF&quot;</td><td>50</td><td>301</td><td>18</td><td>45</td><td>2013-09-30 22:00:00 UTC</td></tr><tr><td>2013</td><td>9</td><td>30</td><td>2235</td><td>2001</td><td>154</td><td>59</td><td>2249</td><td>130</td><td>&quot;B6&quot;</td><td>1083</td><td>&quot;N804JB&quot;</td><td>&quot;JFK&quot;</td><td>&quot;MCO&quot;</td><td>123</td><td>944</td><td>20</td><td>1</td><td>2013-10-01 00:00:00 UTC</td></tr></tbody></table></div>"
            ]
          },
          "metadata": {},
          "execution_count": 43
        }
      ],
      "source": [
        "# Write your SQL query here\n",
        "result = ctx.execute(\"\"\"\n",
        "SELECT *\n",
        "FROM flights\n",
        "WHERE dep_delay > 120\n",
        "\"\"\")\n",
        "\n",
        "#print(result)\n",
        "result"
      ]
    },
    {
      "cell_type": "markdown",
      "metadata": {
        "id": "vTJnISWy1OHV"
      },
      "source": [
        "## Exercise 2: Aggregation\n",
        "\n",
        "### 2.1 Calculate the average departure delay for each origin airport"
      ]
    },
    {
      "cell_type": "code",
      "execution_count": null,
      "metadata": {
        "colab": {
          "base_uri": "https://localhost:8080/",
          "height": 192
        },
        "id": "nkrnnCgq1OHV",
        "outputId": "1b694019-42fa-473f-d347-867c666533b8"
      },
      "outputs": [
        {
          "output_type": "execute_result",
          "data": {
            "text/plain": [
              "shape: (3, 2)\n",
              "┌────────┬───────────┐\n",
              "│ origin ┆ avg_delay │\n",
              "│ ---    ┆ ---       │\n",
              "│ str    ┆ f64       │\n",
              "╞════════╪═══════════╡\n",
              "│ LGA    ┆ 10.346876 │\n",
              "│ JFK    ┆ 12.112159 │\n",
              "│ EWR    ┆ 15.107954 │\n",
              "└────────┴───────────┘"
            ],
            "text/html": [
              "<div><style>\n",
              ".dataframe > thead > tr,\n",
              ".dataframe > tbody > tr {\n",
              "  text-align: right;\n",
              "  white-space: pre-wrap;\n",
              "}\n",
              "</style>\n",
              "<small>shape: (3, 2)</small><table border=\"1\" class=\"dataframe\"><thead><tr><th>origin</th><th>avg_delay</th></tr><tr><td>str</td><td>f64</td></tr></thead><tbody><tr><td>&quot;LGA&quot;</td><td>10.346876</td></tr><tr><td>&quot;JFK&quot;</td><td>12.112159</td></tr><tr><td>&quot;EWR&quot;</td><td>15.107954</td></tr></tbody></table></div>"
            ]
          },
          "metadata": {},
          "execution_count": 42
        }
      ],
      "source": [
        "# Write your SQL query here\n",
        "result = ctx.execute(\"\"\"\n",
        "SELECT origin, AVG(dep_delay) AS avg_delay\n",
        "FROM flights\n",
        "GROUP BY origin\n",
        "\"\"\")\n",
        "#print(result)\n",
        "result"
      ]
    },
    {
      "cell_type": "markdown",
      "metadata": {
        "id": "bAyqHpHF1OHV"
      },
      "source": [
        "### 2.2 Find the busiest month of the year\n",
        "\n",
        "Count the number of flights per month and find which month has the most flights."
      ]
    },
    {
      "cell_type": "code",
      "execution_count": null,
      "metadata": {
        "colab": {
          "base_uri": "https://localhost:8080/",
          "height": 344
        },
        "id": "eaXQHYJN1OHW",
        "outputId": "2e34de5f-0d00-4093-ef2f-e714639da0c9"
      },
      "outputs": [
        {
          "output_type": "stream",
          "name": "stdout",
          "text": [
            "shape: (5, 19)\n",
            "┌──────┬───────┬─────┬──────────┬───┬──────────┬──────┬────────┬─────────────────────────┐\n",
            "│ year ┆ month ┆ day ┆ dep_time ┆ … ┆ distance ┆ hour ┆ minute ┆ time_hour               │\n",
            "│ ---  ┆ ---   ┆ --- ┆ ---      ┆   ┆ ---      ┆ ---  ┆ ---    ┆ ---                     │\n",
            "│ i64  ┆ i64   ┆ i64 ┆ i64      ┆   ┆ i64      ┆ i64  ┆ i64    ┆ datetime[μs, UTC]       │\n",
            "╞══════╪═══════╪═════╪══════════╪═══╪══════════╪══════╪════════╪═════════════════════════╡\n",
            "│ 2013 ┆ 1     ┆ 1   ┆ 517      ┆ … ┆ 1400     ┆ 5    ┆ 15     ┆ 2013-01-01 10:00:00 UTC │\n",
            "│ 2013 ┆ 1     ┆ 1   ┆ 533      ┆ … ┆ 1416     ┆ 5    ┆ 29     ┆ 2013-01-01 10:00:00 UTC │\n",
            "│ 2013 ┆ 1     ┆ 1   ┆ 542      ┆ … ┆ 1089     ┆ 5    ┆ 40     ┆ 2013-01-01 10:00:00 UTC │\n",
            "│ 2013 ┆ 1     ┆ 1   ┆ 544      ┆ … ┆ 1576     ┆ 5    ┆ 45     ┆ 2013-01-01 10:00:00 UTC │\n",
            "│ 2013 ┆ 1     ┆ 1   ┆ 554      ┆ … ┆ 762      ┆ 6    ┆ 0      ┆ 2013-01-01 11:00:00 UTC │\n",
            "└──────┴───────┴─────┴──────────┴───┴──────────┴──────┴────────┴─────────────────────────┘\n"
          ]
        },
        {
          "output_type": "execute_result",
          "data": {
            "text/plain": [
              "shape: (1, 2)\n",
              "┌───────┬──────────────┐\n",
              "│ month ┆ flight_count │\n",
              "│ ---   ┆ ---          │\n",
              "│ i64   ┆ u32          │\n",
              "╞═══════╪══════════════╡\n",
              "│ 7     ┆ 29425        │\n",
              "└───────┴──────────────┘"
            ],
            "text/html": [
              "<div><style>\n",
              ".dataframe > thead > tr,\n",
              ".dataframe > tbody > tr {\n",
              "  text-align: right;\n",
              "  white-space: pre-wrap;\n",
              "}\n",
              "</style>\n",
              "<small>shape: (1, 2)</small><table border=\"1\" class=\"dataframe\"><thead><tr><th>month</th><th>flight_count</th></tr><tr><td>i64</td><td>u32</td></tr></thead><tbody><tr><td>7</td><td>29425</td></tr></tbody></table></div>"
            ]
          },
          "metadata": {},
          "execution_count": 41
        }
      ],
      "source": [
        "# First, let's check what columns are available\n",
        "result = ctx.execute(\"\"\"\n",
        "    SELECT *\n",
        "    FROM flights\n",
        "    LIMIT 5\n",
        "\"\"\")\n",
        "print(result)\n",
        "\n",
        "# Now write your query to find busiest month\n",
        "result = ctx.execute(\"\"\"\n",
        "SELECT month, COUNT(*) AS flight_count\n",
        "FROM flights\n",
        "GROUP BY month\n",
        "ORDER BY flight_count DESC\n",
        "LIMIT 1\n",
        "\"\"\")\n",
        "#print(result)\n",
        "result"
      ]
    },
    {
      "cell_type": "markdown",
      "metadata": {
        "id": "HxF5nRcP1OHW"
      },
      "source": [
        "### 2.3 Calculate the on-time performance rate for each carrier\n",
        "\n",
        "Consider a flight on-time if the departure delay is <= 15 minutes."
      ]
    },
    {
      "cell_type": "code",
      "execution_count": null,
      "metadata": {
        "colab": {
          "base_uri": "https://localhost:8080/",
          "height": 443
        },
        "id": "xhzxy9b41OHW",
        "outputId": "57f234bf-b8e8-4128-8be3-1df9bb277c0a"
      },
      "outputs": [
        {
          "output_type": "execute_result",
          "data": {
            "text/plain": [
              "shape: (16, 2)\n",
              "┌─────────┬─────────────┐\n",
              "│ carrier ┆ ontime_rate │\n",
              "│ ---     ┆ ---         │\n",
              "│ str     ┆ i32         │\n",
              "╞═════════╪═════════════╡\n",
              "│ UA      ┆ 45784       │\n",
              "│ B6      ┆ 41816       │\n",
              "│ DL      ┆ 39967       │\n",
              "│ EV      ┆ 35712       │\n",
              "│ AA      ┆ 26981       │\n",
              "│ …       ┆ …           │\n",
              "│ AS      ┆ 618         │\n",
              "│ F9      ┆ 490         │\n",
              "│ YV      ┆ 389         │\n",
              "│ HA      ┆ 318         │\n",
              "│ OO      ┆ 23          │\n",
              "└─────────┴─────────────┘"
            ],
            "text/html": [
              "<div><style>\n",
              ".dataframe > thead > tr,\n",
              ".dataframe > tbody > tr {\n",
              "  text-align: right;\n",
              "  white-space: pre-wrap;\n",
              "}\n",
              "</style>\n",
              "<small>shape: (16, 2)</small><table border=\"1\" class=\"dataframe\"><thead><tr><th>carrier</th><th>ontime_rate</th></tr><tr><td>str</td><td>i32</td></tr></thead><tbody><tr><td>&quot;UA&quot;</td><td>45784</td></tr><tr><td>&quot;B6&quot;</td><td>41816</td></tr><tr><td>&quot;DL&quot;</td><td>39967</td></tr><tr><td>&quot;EV&quot;</td><td>35712</td></tr><tr><td>&quot;AA&quot;</td><td>26981</td></tr><tr><td>&hellip;</td><td>&hellip;</td></tr><tr><td>&quot;AS&quot;</td><td>618</td></tr><tr><td>&quot;F9&quot;</td><td>490</td></tr><tr><td>&quot;YV&quot;</td><td>389</td></tr><tr><td>&quot;HA&quot;</td><td>318</td></tr><tr><td>&quot;OO&quot;</td><td>23</td></tr></tbody></table></div>"
            ]
          },
          "metadata": {},
          "execution_count": 40
        }
      ],
      "source": [
        "# Write your SQL query here\n",
        "result = ctx.execute(\"\"\"\n",
        "SELECT carrier,\n",
        "       (SUM(CASE WHEN dep_delay <= 15 THEN 1 ELSE 0 END)) AS ontime_rate\n",
        "FROM flights\n",
        "GROUP BY carrier\n",
        "ORDER BY ontime_rate DESC\n",
        "\"\"\")\n",
        "\n",
        "#print(result)\n",
        "result"
      ]
    },
    {
      "cell_type": "markdown",
      "metadata": {
        "id": "7k3V_2Nk1OHW"
      },
      "source": [
        "## Exercise 3: Joins\n",
        "\n",
        "### 3.1 List all flights with their airline names (not just carrier codes)\n",
        "\n",
        "Show the first 20 flights with carrier code, airline name, flight number, origin, and destination."
      ]
    },
    {
      "cell_type": "code",
      "execution_count": null,
      "metadata": {
        "colab": {
          "base_uri": "https://localhost:8080/",
          "height": 443
        },
        "id": "Ra15ZlSM1OHW",
        "outputId": "c6252634-d2d5-4e3a-b5c0-ff9572e301c5"
      },
      "outputs": [
        {
          "output_type": "execute_result",
          "data": {
            "text/plain": [
              "shape: (20, 5)\n",
              "┌─────────┬────────────────────────┬────────┬────────┬──────┐\n",
              "│ carrier ┆ airline_name           ┆ flight ┆ origin ┆ dest │\n",
              "│ ---     ┆ ---                    ┆ ---    ┆ ---    ┆ ---  │\n",
              "│ str     ┆ str                    ┆ i64    ┆ str    ┆ str  │\n",
              "╞═════════╪════════════════════════╪════════╪════════╪══════╡\n",
              "│ UA      ┆ United Air Lines Inc.  ┆ 1545   ┆ EWR    ┆ IAH  │\n",
              "│ UA      ┆ United Air Lines Inc.  ┆ 1714   ┆ LGA    ┆ IAH  │\n",
              "│ AA      ┆ American Airlines Inc. ┆ 1141   ┆ JFK    ┆ MIA  │\n",
              "│ B6      ┆ JetBlue Airways        ┆ 725    ┆ JFK    ┆ BQN  │\n",
              "│ DL      ┆ Delta Air Lines Inc.   ┆ 461    ┆ LGA    ┆ ATL  │\n",
              "│ …       ┆ …                      ┆ …      ┆ …      ┆ …    │\n",
              "│ B6      ┆ JetBlue Airways        ┆ 1806   ┆ JFK    ┆ BOS  │\n",
              "│ UA      ┆ United Air Lines Inc.  ┆ 1187   ┆ EWR    ┆ LAS  │\n",
              "│ B6      ┆ JetBlue Airways        ┆ 371    ┆ LGA    ┆ FLL  │\n",
              "│ MQ      ┆ Envoy Air              ┆ 4650   ┆ LGA    ┆ ATL  │\n",
              "│ B6      ┆ JetBlue Airways        ┆ 343    ┆ EWR    ┆ PBI  │\n",
              "└─────────┴────────────────────────┴────────┴────────┴──────┘"
            ],
            "text/html": [
              "<div><style>\n",
              ".dataframe > thead > tr,\n",
              ".dataframe > tbody > tr {\n",
              "  text-align: right;\n",
              "  white-space: pre-wrap;\n",
              "}\n",
              "</style>\n",
              "<small>shape: (20, 5)</small><table border=\"1\" class=\"dataframe\"><thead><tr><th>carrier</th><th>airline_name</th><th>flight</th><th>origin</th><th>dest</th></tr><tr><td>str</td><td>str</td><td>i64</td><td>str</td><td>str</td></tr></thead><tbody><tr><td>&quot;UA&quot;</td><td>&quot;United Air Lines Inc.&quot;</td><td>1545</td><td>&quot;EWR&quot;</td><td>&quot;IAH&quot;</td></tr><tr><td>&quot;UA&quot;</td><td>&quot;United Air Lines Inc.&quot;</td><td>1714</td><td>&quot;LGA&quot;</td><td>&quot;IAH&quot;</td></tr><tr><td>&quot;AA&quot;</td><td>&quot;American Airlines Inc.&quot;</td><td>1141</td><td>&quot;JFK&quot;</td><td>&quot;MIA&quot;</td></tr><tr><td>&quot;B6&quot;</td><td>&quot;JetBlue Airways&quot;</td><td>725</td><td>&quot;JFK&quot;</td><td>&quot;BQN&quot;</td></tr><tr><td>&quot;DL&quot;</td><td>&quot;Delta Air Lines Inc.&quot;</td><td>461</td><td>&quot;LGA&quot;</td><td>&quot;ATL&quot;</td></tr><tr><td>&hellip;</td><td>&hellip;</td><td>&hellip;</td><td>&hellip;</td><td>&hellip;</td></tr><tr><td>&quot;B6&quot;</td><td>&quot;JetBlue Airways&quot;</td><td>1806</td><td>&quot;JFK&quot;</td><td>&quot;BOS&quot;</td></tr><tr><td>&quot;UA&quot;</td><td>&quot;United Air Lines Inc.&quot;</td><td>1187</td><td>&quot;EWR&quot;</td><td>&quot;LAS&quot;</td></tr><tr><td>&quot;B6&quot;</td><td>&quot;JetBlue Airways&quot;</td><td>371</td><td>&quot;LGA&quot;</td><td>&quot;FLL&quot;</td></tr><tr><td>&quot;MQ&quot;</td><td>&quot;Envoy Air&quot;</td><td>4650</td><td>&quot;LGA&quot;</td><td>&quot;ATL&quot;</td></tr><tr><td>&quot;B6&quot;</td><td>&quot;JetBlue Airways&quot;</td><td>343</td><td>&quot;EWR&quot;</td><td>&quot;PBI&quot;</td></tr></tbody></table></div>"
            ]
          },
          "metadata": {},
          "execution_count": 39
        }
      ],
      "source": [
        "# Write your SQL query here\n",
        "result = ctx.execute(\"\"\"\n",
        "SELECT f.carrier, a.name AS airline_name, f.flight, f.origin, f.dest\n",
        "FROM flights f\n",
        "JOIN airlines a ON f.carrier = a.carrier\n",
        "LIMIT 20\n",
        "\"\"\")\n",
        "\n",
        "#print(result)\n",
        "result"
      ]
    },
    {
      "cell_type": "markdown",
      "metadata": {
        "id": "oomkF4eD1OHW"
      },
      "source": [
        "### 3.2 Find the average age of planes for each carrier\n",
        "\n",
        "Hint: The planes table has a `year` column for manufacture year. Calculate age based on 2013."
      ]
    },
    {
      "cell_type": "code",
      "execution_count": null,
      "metadata": {
        "colab": {
          "base_uri": "https://localhost:8080/",
          "height": 443
        },
        "id": "WBd8KC0g1OHW",
        "outputId": "5458fd28-c3d9-4bdf-e7ba-0a4849a92d0c"
      },
      "outputs": [
        {
          "output_type": "execute_result",
          "data": {
            "text/plain": [
              "shape: (16, 2)\n",
              "┌─────────┬───────────┐\n",
              "│ carrier ┆ avg_age   │\n",
              "│ ---     ┆ ---       │\n",
              "│ str     ┆ f64       │\n",
              "╞═════════╪═══════════╡\n",
              "│ MQ      ┆ 35.319    │\n",
              "│ AA      ┆ 25.869426 │\n",
              "│ DL      ┆ 16.372169 │\n",
              "│ UA      ┆ 13.207691 │\n",
              "│ FL      ┆ 11.385829 │\n",
              "│ …       ┆ …         │\n",
              "│ B6      ┆ 6.686702  │\n",
              "│ F9      ┆ 4.87874   │\n",
              "│ VX      ┆ 4.473643  │\n",
              "│ AS      ┆ 3.33662   │\n",
              "│ HA      ┆ 1.548387  │\n",
              "└─────────┴───────────┘"
            ],
            "text/html": [
              "<div><style>\n",
              ".dataframe > thead > tr,\n",
              ".dataframe > tbody > tr {\n",
              "  text-align: right;\n",
              "  white-space: pre-wrap;\n",
              "}\n",
              "</style>\n",
              "<small>shape: (16, 2)</small><table border=\"1\" class=\"dataframe\"><thead><tr><th>carrier</th><th>avg_age</th></tr><tr><td>str</td><td>f64</td></tr></thead><tbody><tr><td>&quot;MQ&quot;</td><td>35.319</td></tr><tr><td>&quot;AA&quot;</td><td>25.869426</td></tr><tr><td>&quot;DL&quot;</td><td>16.372169</td></tr><tr><td>&quot;UA&quot;</td><td>13.207691</td></tr><tr><td>&quot;FL&quot;</td><td>11.385829</td></tr><tr><td>&hellip;</td><td>&hellip;</td></tr><tr><td>&quot;B6&quot;</td><td>6.686702</td></tr><tr><td>&quot;F9&quot;</td><td>4.87874</td></tr><tr><td>&quot;VX&quot;</td><td>4.473643</td></tr><tr><td>&quot;AS&quot;</td><td>3.33662</td></tr><tr><td>&quot;HA&quot;</td><td>1.548387</td></tr></tbody></table></div>"
            ]
          },
          "metadata": {},
          "execution_count": 38
        }
      ],
      "source": [
        "# Write your SQL query here\n",
        "result = ctx.execute(\"\"\"\n",
        "SELECT f.carrier, AVG(2013 - p.year) AS avg_age\n",
        "FROM flights f\n",
        "JOIN planes p ON f.tailnum = p.tailnum\n",
        "WHERE p.year IS NOT NULL\n",
        "GROUP BY f.carrier\n",
        "ORDER BY avg_age DESC\n",
        "\"\"\")\n",
        "\n",
        "#print(result)\n",
        "result"
      ]
    },
    {
      "cell_type": "markdown",
      "metadata": {
        "id": "zw16AcsJ1OHW"
      },
      "source": [
        "### 3.3 Find flights that experienced both departure delays and bad weather\n",
        "\n",
        "Join flights with weather data and find flights where departure delay > 30 minutes and either wind_speed > 20 or precip > 0.1"
      ]
    },
    {
      "cell_type": "code",
      "execution_count": null,
      "metadata": {
        "colab": {
          "base_uri": "https://localhost:8080/",
          "height": 868
        },
        "id": "_O9zfuD51OHW",
        "outputId": "ce5f308a-0305-406a-aa91-b82b9af260c8"
      },
      "outputs": [
        {
          "output_type": "stream",
          "name": "stdout",
          "text": [
            "shape: (5, 15)\n",
            "┌────────┬──────┬───────┬─────┬───┬────────┬──────────┬───────┬─────────────────────────┐\n",
            "│ origin ┆ year ┆ month ┆ day ┆ … ┆ precip ┆ pressure ┆ visib ┆ time_hour               │\n",
            "│ ---    ┆ ---  ┆ ---   ┆ --- ┆   ┆ ---    ┆ ---      ┆ ---   ┆ ---                     │\n",
            "│ str    ┆ i64  ┆ i64   ┆ i64 ┆   ┆ f64    ┆ f64      ┆ f64   ┆ datetime[μs, UTC]       │\n",
            "╞════════╪══════╪═══════╪═════╪═══╪════════╪══════════╪═══════╪═════════════════════════╡\n",
            "│ EWR    ┆ 2013 ┆ 1     ┆ 1   ┆ … ┆ 0.0    ┆ 1012.0   ┆ 10.0  ┆ 2013-01-01 06:00:00 UTC │\n",
            "│ EWR    ┆ 2013 ┆ 1     ┆ 1   ┆ … ┆ 0.0    ┆ 1012.3   ┆ 10.0  ┆ 2013-01-01 07:00:00 UTC │\n",
            "│ EWR    ┆ 2013 ┆ 1     ┆ 1   ┆ … ┆ 0.0    ┆ 1012.5   ┆ 10.0  ┆ 2013-01-01 08:00:00 UTC │\n",
            "│ EWR    ┆ 2013 ┆ 1     ┆ 1   ┆ … ┆ 0.0    ┆ 1012.2   ┆ 10.0  ┆ 2013-01-01 09:00:00 UTC │\n",
            "│ EWR    ┆ 2013 ┆ 1     ┆ 1   ┆ … ┆ 0.0    ┆ 1011.9   ┆ 10.0  ┆ 2013-01-01 10:00:00 UTC │\n",
            "└────────┴──────┴───────┴─────┴───┴────────┴──────────┴───────┴─────────────────────────┘\n"
          ]
        },
        {
          "output_type": "execute_result",
          "data": {
            "text/plain": [
              "shape: (27_264_551, 19)\n",
              "┌──────┬───────┬─────┬──────────┬───┬──────────┬──────┬────────┬─────────────────────────┐\n",
              "│ year ┆ month ┆ day ┆ dep_time ┆ … ┆ distance ┆ hour ┆ minute ┆ time_hour               │\n",
              "│ ---  ┆ ---   ┆ --- ┆ ---      ┆   ┆ ---      ┆ ---  ┆ ---    ┆ ---                     │\n",
              "│ i64  ┆ i64   ┆ i64 ┆ i64      ┆   ┆ i64      ┆ i64  ┆ i64    ┆ datetime[μs, UTC]       │\n",
              "╞══════╪═══════╪═════╪══════════╪═══╪══════════╪══════╪════════╪═════════════════════════╡\n",
              "│ 2013 ┆ 1     ┆ 1   ┆ 732      ┆ … ┆ 937      ┆ 6    ┆ 45     ┆ 2013-01-01 11:00:00 UTC │\n",
              "│ 2013 ┆ 1     ┆ 1   ┆ 732      ┆ … ┆ 937      ┆ 6    ┆ 45     ┆ 2013-01-01 11:00:00 UTC │\n",
              "│ 2013 ┆ 1     ┆ 1   ┆ 732      ┆ … ┆ 937      ┆ 6    ┆ 45     ┆ 2013-01-01 11:00:00 UTC │\n",
              "│ 2013 ┆ 1     ┆ 1   ┆ 732      ┆ … ┆ 937      ┆ 6    ┆ 45     ┆ 2013-01-01 11:00:00 UTC │\n",
              "│ 2013 ┆ 1     ┆ 1   ┆ 732      ┆ … ┆ 937      ┆ 6    ┆ 45     ┆ 2013-01-01 11:00:00 UTC │\n",
              "│ …    ┆ …     ┆ …   ┆ …        ┆ … ┆ …        ┆ …    ┆ …      ┆ …                       │\n",
              "│ 2013 ┆ 9     ┆ 30  ┆ 2235     ┆ … ┆ 944      ┆ 20   ┆ 1      ┆ 2013-10-01 00:00:00 UTC │\n",
              "│ 2013 ┆ 9     ┆ 30  ┆ 2235     ┆ … ┆ 944      ┆ 20   ┆ 1      ┆ 2013-10-01 00:00:00 UTC │\n",
              "│ 2013 ┆ 9     ┆ 30  ┆ 2235     ┆ … ┆ 944      ┆ 20   ┆ 1      ┆ 2013-10-01 00:00:00 UTC │\n",
              "│ 2013 ┆ 9     ┆ 30  ┆ 2235     ┆ … ┆ 944      ┆ 20   ┆ 1      ┆ 2013-10-01 00:00:00 UTC │\n",
              "│ 2013 ┆ 9     ┆ 30  ┆ 2235     ┆ … ┆ 944      ┆ 20   ┆ 1      ┆ 2013-10-01 00:00:00 UTC │\n",
              "└──────┴───────┴─────┴──────────┴───┴──────────┴──────┴────────┴─────────────────────────┘"
            ],
            "text/html": [
              "<div><style>\n",
              ".dataframe > thead > tr,\n",
              ".dataframe > tbody > tr {\n",
              "  text-align: right;\n",
              "  white-space: pre-wrap;\n",
              "}\n",
              "</style>\n",
              "<small>shape: (27_264_551, 19)</small><table border=\"1\" class=\"dataframe\"><thead><tr><th>year</th><th>month</th><th>day</th><th>dep_time</th><th>sched_dep_time</th><th>dep_delay</th><th>arr_time</th><th>sched_arr_time</th><th>arr_delay</th><th>carrier</th><th>flight</th><th>tailnum</th><th>origin</th><th>dest</th><th>air_time</th><th>distance</th><th>hour</th><th>minute</th><th>time_hour</th></tr><tr><td>i64</td><td>i64</td><td>i64</td><td>i64</td><td>i64</td><td>i64</td><td>i64</td><td>i64</td><td>i64</td><td>str</td><td>i64</td><td>str</td><td>str</td><td>str</td><td>i64</td><td>i64</td><td>i64</td><td>i64</td><td>datetime[μs, UTC]</td></tr></thead><tbody><tr><td>2013</td><td>1</td><td>1</td><td>732</td><td>645</td><td>47</td><td>1011</td><td>941</td><td>30</td><td>&quot;UA&quot;</td><td>1111</td><td>&quot;N37456&quot;</td><td>&quot;EWR&quot;</td><td>&quot;MCO&quot;</td><td>145</td><td>937</td><td>6</td><td>45</td><td>2013-01-01 11:00:00 UTC</td></tr><tr><td>2013</td><td>1</td><td>1</td><td>732</td><td>645</td><td>47</td><td>1011</td><td>941</td><td>30</td><td>&quot;UA&quot;</td><td>1111</td><td>&quot;N37456&quot;</td><td>&quot;EWR&quot;</td><td>&quot;MCO&quot;</td><td>145</td><td>937</td><td>6</td><td>45</td><td>2013-01-01 11:00:00 UTC</td></tr><tr><td>2013</td><td>1</td><td>1</td><td>732</td><td>645</td><td>47</td><td>1011</td><td>941</td><td>30</td><td>&quot;UA&quot;</td><td>1111</td><td>&quot;N37456&quot;</td><td>&quot;EWR&quot;</td><td>&quot;MCO&quot;</td><td>145</td><td>937</td><td>6</td><td>45</td><td>2013-01-01 11:00:00 UTC</td></tr><tr><td>2013</td><td>1</td><td>1</td><td>732</td><td>645</td><td>47</td><td>1011</td><td>941</td><td>30</td><td>&quot;UA&quot;</td><td>1111</td><td>&quot;N37456&quot;</td><td>&quot;EWR&quot;</td><td>&quot;MCO&quot;</td><td>145</td><td>937</td><td>6</td><td>45</td><td>2013-01-01 11:00:00 UTC</td></tr><tr><td>2013</td><td>1</td><td>1</td><td>732</td><td>645</td><td>47</td><td>1011</td><td>941</td><td>30</td><td>&quot;UA&quot;</td><td>1111</td><td>&quot;N37456&quot;</td><td>&quot;EWR&quot;</td><td>&quot;MCO&quot;</td><td>145</td><td>937</td><td>6</td><td>45</td><td>2013-01-01 11:00:00 UTC</td></tr><tr><td>&hellip;</td><td>&hellip;</td><td>&hellip;</td><td>&hellip;</td><td>&hellip;</td><td>&hellip;</td><td>&hellip;</td><td>&hellip;</td><td>&hellip;</td><td>&hellip;</td><td>&hellip;</td><td>&hellip;</td><td>&hellip;</td><td>&hellip;</td><td>&hellip;</td><td>&hellip;</td><td>&hellip;</td><td>&hellip;</td><td>&hellip;</td></tr><tr><td>2013</td><td>9</td><td>30</td><td>2235</td><td>2001</td><td>154</td><td>59</td><td>2249</td><td>130</td><td>&quot;B6&quot;</td><td>1083</td><td>&quot;N804JB&quot;</td><td>&quot;JFK&quot;</td><td>&quot;MCO&quot;</td><td>123</td><td>944</td><td>20</td><td>1</td><td>2013-10-01 00:00:00 UTC</td></tr><tr><td>2013</td><td>9</td><td>30</td><td>2235</td><td>2001</td><td>154</td><td>59</td><td>2249</td><td>130</td><td>&quot;B6&quot;</td><td>1083</td><td>&quot;N804JB&quot;</td><td>&quot;JFK&quot;</td><td>&quot;MCO&quot;</td><td>123</td><td>944</td><td>20</td><td>1</td><td>2013-10-01 00:00:00 UTC</td></tr><tr><td>2013</td><td>9</td><td>30</td><td>2235</td><td>2001</td><td>154</td><td>59</td><td>2249</td><td>130</td><td>&quot;B6&quot;</td><td>1083</td><td>&quot;N804JB&quot;</td><td>&quot;JFK&quot;</td><td>&quot;MCO&quot;</td><td>123</td><td>944</td><td>20</td><td>1</td><td>2013-10-01 00:00:00 UTC</td></tr><tr><td>2013</td><td>9</td><td>30</td><td>2235</td><td>2001</td><td>154</td><td>59</td><td>2249</td><td>130</td><td>&quot;B6&quot;</td><td>1083</td><td>&quot;N804JB&quot;</td><td>&quot;JFK&quot;</td><td>&quot;MCO&quot;</td><td>123</td><td>944</td><td>20</td><td>1</td><td>2013-10-01 00:00:00 UTC</td></tr><tr><td>2013</td><td>9</td><td>30</td><td>2235</td><td>2001</td><td>154</td><td>59</td><td>2249</td><td>130</td><td>&quot;B6&quot;</td><td>1083</td><td>&quot;N804JB&quot;</td><td>&quot;JFK&quot;</td><td>&quot;MCO&quot;</td><td>123</td><td>944</td><td>20</td><td>1</td><td>2013-10-01 00:00:00 UTC</td></tr></tbody></table></div>"
            ]
          },
          "metadata": {},
          "execution_count": 35
        }
      ],
      "source": [
        "# First, explore the weather table structure\n",
        "result = ctx.execute(\"\"\"\n",
        "    SELECT *\n",
        "    FROM weather\n",
        "    LIMIT 5\n",
        "\"\"\")\n",
        "print(result)\n",
        "\n",
        "# Now write your join query\n",
        "result = ctx.execute(\"\"\"\n",
        "SELECT f.*\n",
        "FROM flights f\n",
        "JOIN weather w ON f.origin = w.origin\n",
        "WHERE f.dep_delay > 30 AND (w.wind_speed > 20 OR w.precip > 0.1)\n",
        "\"\"\")\n",
        "result\n",
        "#print(result)"
      ]
    },
    {
      "cell_type": "markdown",
      "metadata": {
        "id": "tIRlbpvF1OHX"
      },
      "source": [
        "## Exercise 4: Advanced Queries\n",
        "\n",
        "### 4.1 Find the most popular aircraft types (by number of flights)\n",
        "\n",
        "Join flights with planes to get manufacturer and model information. Show top 10."
      ]
    },
    {
      "cell_type": "code",
      "execution_count": null,
      "metadata": {
        "id": "P3ZaG2XC1OHX",
        "colab": {
          "base_uri": "https://localhost:8080/",
          "height": 412
        },
        "outputId": "8f9a9842-4057-40f1-ea52-16e5262444af"
      },
      "outputs": [
        {
          "output_type": "execute_result",
          "data": {
            "text/plain": [
              "shape: (10, 3)\n",
              "┌───────────────────────────────┬─────────────────┬──────────────┐\n",
              "│ manufacturer                  ┆ model           ┆ flight_count │\n",
              "│ ---                           ┆ ---             ┆ ---          │\n",
              "│ str                           ┆ str             ┆ u32          │\n",
              "╞═══════════════════════════════╪═════════════════╪══════════════╡\n",
              "│ AIRBUS                        ┆ A320-232        ┆ 31278        │\n",
              "│ EMBRAER                       ┆ EMB-145LR       ┆ 28027        │\n",
              "│ EMBRAER                       ┆ ERJ 190-100 IGW ┆ 23716        │\n",
              "│ AIRBUS INDUSTRIE              ┆ A320-232        ┆ 14553        │\n",
              "│ EMBRAER                       ┆ EMB-145XR       ┆ 14051        │\n",
              "│ BOEING                        ┆ 737-824         ┆ 13809        │\n",
              "│ BOMBARDIER INC                ┆ CL-600-2D24     ┆ 11807        │\n",
              "│ BOEING                        ┆ 737-7H4         ┆ 10389        │\n",
              "│ BOEING                        ┆ 757-222         ┆ 9150         │\n",
              "│ MCDONNELL DOUGLAS AIRCRAFT CO ┆ MD-88           ┆ 8932         │\n",
              "└───────────────────────────────┴─────────────────┴──────────────┘"
            ],
            "text/html": [
              "<div><style>\n",
              ".dataframe > thead > tr,\n",
              ".dataframe > tbody > tr {\n",
              "  text-align: right;\n",
              "  white-space: pre-wrap;\n",
              "}\n",
              "</style>\n",
              "<small>shape: (10, 3)</small><table border=\"1\" class=\"dataframe\"><thead><tr><th>manufacturer</th><th>model</th><th>flight_count</th></tr><tr><td>str</td><td>str</td><td>u32</td></tr></thead><tbody><tr><td>&quot;AIRBUS&quot;</td><td>&quot;A320-232&quot;</td><td>31278</td></tr><tr><td>&quot;EMBRAER&quot;</td><td>&quot;EMB-145LR&quot;</td><td>28027</td></tr><tr><td>&quot;EMBRAER&quot;</td><td>&quot;ERJ 190-100 IGW&quot;</td><td>23716</td></tr><tr><td>&quot;AIRBUS INDUSTRIE&quot;</td><td>&quot;A320-232&quot;</td><td>14553</td></tr><tr><td>&quot;EMBRAER&quot;</td><td>&quot;EMB-145XR&quot;</td><td>14051</td></tr><tr><td>&quot;BOEING&quot;</td><td>&quot;737-824&quot;</td><td>13809</td></tr><tr><td>&quot;BOMBARDIER INC&quot;</td><td>&quot;CL-600-2D24&quot;</td><td>11807</td></tr><tr><td>&quot;BOEING&quot;</td><td>&quot;737-7H4&quot;</td><td>10389</td></tr><tr><td>&quot;BOEING&quot;</td><td>&quot;757-222&quot;</td><td>9150</td></tr><tr><td>&quot;MCDONNELL DOUGLAS AIRCRAFT CO&quot;</td><td>&quot;MD-88&quot;</td><td>8932</td></tr></tbody></table></div>"
            ]
          },
          "metadata": {},
          "execution_count": 2
        }
      ],
      "source": [
        "# Write your SQL query here\n",
        "result = ctx.execute(\"\"\"\n",
        "SELECT p.manufacturer, p.model, COUNT(*) AS flight_count\n",
        "FROM flights f\n",
        "JOIN planes p ON f.tailnum = p.tailnum\n",
        "GROUP BY p.manufacturer, p.model\n",
        "ORDER BY flight_count DESC\n",
        "LIMIT 10\n",
        "\"\"\")\n",
        "\n",
        "#print(result)\n",
        "result"
      ]
    },
    {
      "cell_type": "markdown",
      "metadata": {
        "id": "MmCaE-VO1OHX"
      },
      "source": [
        "### 4.2 Analyze route performance\n",
        "\n",
        "Find the top 10 routes (origin-destination pairs) with:\n",
        "- Total number of flights\n",
        "- Average departure delay\n",
        "- Percentage of flights delayed more than 30 minutes\n",
        "\n",
        "Include airport names, not just codes."
      ]
    },
    {
      "cell_type": "code",
      "execution_count": null,
      "metadata": {
        "id": "0HXY8pIl1OHX",
        "colab": {
          "base_uri": "https://localhost:8080/",
          "height": 412
        },
        "outputId": "a47afd98-a367-4511-8b01-43188cc47cd0"
      },
      "outputs": [
        {
          "output_type": "execute_result",
          "data": {
            "text/plain": [
              "shape: (10, 7)\n",
              "┌────────┬────────────────┬──────┬────────────────┬───────────────┬───────────────┬────────────────┐\n",
              "│ origin ┆ origin_airport ┆ dest ┆ dest_airport   ┆ total_flights ┆ avg_dep_delay ┆ pct_over_30min │\n",
              "│ ---    ┆ ---            ┆ ---  ┆ ---            ┆ ---           ┆ ---           ┆ ---            │\n",
              "│ str    ┆ str            ┆ str  ┆ str            ┆ u32           ┆ f64           ┆ f64            │\n",
              "╞════════╪════════════════╪══════╪════════════════╪═══════════════╪═══════════════╪════════════════╡\n",
              "│ JFK    ┆ John F Kennedy ┆ LAX  ┆ Los Angeles    ┆ 11262         ┆ 8.522508      ┆ 9.829515       │\n",
              "│        ┆ Intl           ┆      ┆ Intl           ┆               ┆               ┆                │\n",
              "│ LGA    ┆ La Guardia     ┆ ATL  ┆ Hartsfield     ┆ 10263         ┆ 11.448621     ┆ 12.247881      │\n",
              "│        ┆                ┆      ┆ Jackson        ┆               ┆               ┆                │\n",
              "│        ┆                ┆      ┆ Atlanta Int…   ┆               ┆               ┆                │\n",
              "│ LGA    ┆ La Guardia     ┆ ORD  ┆ Chicago Ohare  ┆ 8857          ┆ 10.740758     ┆ 13.345377      │\n",
              "│        ┆                ┆      ┆ Intl           ┆               ┆               ┆                │\n",
              "│ JFK    ┆ John F Kennedy ┆ SFO  ┆ San Francisco  ┆ 8204          ┆ 11.952691     ┆ 12.116041      │\n",
              "│        ┆ Intl           ┆      ┆ Intl           ┆               ┆               ┆                │\n",
              "│ LGA    ┆ La Guardia     ┆ CLT  ┆ Charlotte      ┆ 6168          ┆ 8.965321      ┆ 11.948768      │\n",
              "│        ┆                ┆      ┆ Douglas Intl   ┆               ┆               ┆                │\n",
              "│ EWR    ┆ Newark Liberty ┆ ORD  ┆ Chicago Ohare  ┆ 6100          ┆ 14.644163     ┆ 16.0           │\n",
              "│        ┆ Intl           ┆      ┆ Intl           ┆               ┆               ┆                │\n",
              "│ JFK    ┆ John F Kennedy ┆ BOS  ┆ General Edward ┆ 5898          ┆ 11.694953     ┆ 13.767379      │\n",
              "│        ┆ Intl           ┆      ┆ Lawrence Logan ┆               ┆               ┆                │\n",
              "│        ┆                ┆      ┆ …              ┆               ┆               ┆                │\n",
              "│ LGA    ┆ La Guardia     ┆ MIA  ┆ Miami Intl     ┆ 5781          ┆ 7.361747      ┆ 9.462031       │\n",
              "│ JFK    ┆ John F Kennedy ┆ MCO  ┆ Orlando Intl   ┆ 5464          ┆ 10.601583     ┆ 12.719619      │\n",
              "│        ┆ Intl           ┆      ┆                ┆               ┆               ┆                │\n",
              "│ EWR    ┆ Newark Liberty ┆ BOS  ┆ General Edward ┆ 5327          ┆ 12.54561      ┆ 14.9052        │\n",
              "│        ┆ Intl           ┆      ┆ Lawrence Logan ┆               ┆               ┆                │\n",
              "│        ┆                ┆      ┆ …              ┆               ┆               ┆                │\n",
              "└────────┴────────────────┴──────┴────────────────┴───────────────┴───────────────┴────────────────┘"
            ],
            "text/html": [
              "<div><style>\n",
              ".dataframe > thead > tr,\n",
              ".dataframe > tbody > tr {\n",
              "  text-align: right;\n",
              "  white-space: pre-wrap;\n",
              "}\n",
              "</style>\n",
              "<small>shape: (10, 7)</small><table border=\"1\" class=\"dataframe\"><thead><tr><th>origin</th><th>origin_airport</th><th>dest</th><th>dest_airport</th><th>total_flights</th><th>avg_dep_delay</th><th>pct_over_30min</th></tr><tr><td>str</td><td>str</td><td>str</td><td>str</td><td>u32</td><td>f64</td><td>f64</td></tr></thead><tbody><tr><td>&quot;JFK&quot;</td><td>&quot;John F Kennedy Intl&quot;</td><td>&quot;LAX&quot;</td><td>&quot;Los Angeles Intl&quot;</td><td>11262</td><td>8.522508</td><td>9.829515</td></tr><tr><td>&quot;LGA&quot;</td><td>&quot;La Guardia&quot;</td><td>&quot;ATL&quot;</td><td>&quot;Hartsfield Jackson Atlanta Int…</td><td>10263</td><td>11.448621</td><td>12.247881</td></tr><tr><td>&quot;LGA&quot;</td><td>&quot;La Guardia&quot;</td><td>&quot;ORD&quot;</td><td>&quot;Chicago Ohare Intl&quot;</td><td>8857</td><td>10.740758</td><td>13.345377</td></tr><tr><td>&quot;JFK&quot;</td><td>&quot;John F Kennedy Intl&quot;</td><td>&quot;SFO&quot;</td><td>&quot;San Francisco Intl&quot;</td><td>8204</td><td>11.952691</td><td>12.116041</td></tr><tr><td>&quot;LGA&quot;</td><td>&quot;La Guardia&quot;</td><td>&quot;CLT&quot;</td><td>&quot;Charlotte Douglas Intl&quot;</td><td>6168</td><td>8.965321</td><td>11.948768</td></tr><tr><td>&quot;EWR&quot;</td><td>&quot;Newark Liberty Intl&quot;</td><td>&quot;ORD&quot;</td><td>&quot;Chicago Ohare Intl&quot;</td><td>6100</td><td>14.644163</td><td>16.0</td></tr><tr><td>&quot;JFK&quot;</td><td>&quot;John F Kennedy Intl&quot;</td><td>&quot;BOS&quot;</td><td>&quot;General Edward Lawrence Logan …</td><td>5898</td><td>11.694953</td><td>13.767379</td></tr><tr><td>&quot;LGA&quot;</td><td>&quot;La Guardia&quot;</td><td>&quot;MIA&quot;</td><td>&quot;Miami Intl&quot;</td><td>5781</td><td>7.361747</td><td>9.462031</td></tr><tr><td>&quot;JFK&quot;</td><td>&quot;John F Kennedy Intl&quot;</td><td>&quot;MCO&quot;</td><td>&quot;Orlando Intl&quot;</td><td>5464</td><td>10.601583</td><td>12.719619</td></tr><tr><td>&quot;EWR&quot;</td><td>&quot;Newark Liberty Intl&quot;</td><td>&quot;BOS&quot;</td><td>&quot;General Edward Lawrence Logan …</td><td>5327</td><td>12.54561</td><td>14.9052</td></tr></tbody></table></div>"
            ]
          },
          "metadata": {},
          "execution_count": 8
        }
      ],
      "source": [
        "# Write your SQL query here\n",
        "result = ctx.execute(\"\"\"\n",
        "SELECT\n",
        "    f.origin,a1_name AS origin_airport,\n",
        "    f.dest, a2_name AS dest_airport, COUNT(*) AS total_flights,\n",
        "    AVG(f.dep_delay) AS avg_dep_delay,100.0 * SUM(CASE WHEN f.dep_delay > 30 THEN 1 ELSE 0 END) / COUNT(*) AS pct_over_30min\n",
        "FROM flights f JOIN (\n",
        "    SELECT faa, name AS a1_name\n",
        "    FROM airports\n",
        ") a1 ON f.origin = a1.faa\n",
        "JOIN (\n",
        "    SELECT faa, name AS a2_name\n",
        "    FROM airports\n",
        ") a2 ON f.dest = a2.faa\n",
        "GROUP BY f.origin, a1_name, f.dest, a2_name ORDER BY total_flights DESC\n",
        "LIMIT 10\n",
        "\"\"\")\n",
        "# print(result)\n",
        "result"
      ]
    },
    {
      "cell_type": "markdown",
      "metadata": {
        "id": "nMV8ZRkH1OHX"
      },
      "source": [
        "## Bonus: Compare with Polars\n",
        "\n",
        "### Choose one of the queries above and implement it using Polars\n",
        "\n",
        "This will help you understand the relationship between SQL and Polars operations."
      ]
    },
    {
      "cell_type": "code",
      "execution_count": null,
      "metadata": {
        "id": "ZaBkqqUb1OHX",
        "colab": {
          "base_uri": "https://localhost:8080/"
        },
        "outputId": "c04180ee-180a-4d86-fa82-0c46f5ee0702"
      },
      "outputs": [
        {
          "output_type": "stream",
          "name": "stdout",
          "text": [
            "SQL Result:\n",
            "shape: (3, 2)\n",
            "┌────────┬───────────┐\n",
            "│ origin ┆ avg_delay │\n",
            "│ ---    ┆ ---       │\n",
            "│ str    ┆ f64       │\n",
            "╞════════╪═══════════╡\n",
            "│ EWR    ┆ 15.107954 │\n",
            "│ JFK    ┆ 12.112159 │\n",
            "│ LGA    ┆ 10.346876 │\n",
            "└────────┴───────────┘\n",
            "\n",
            "Polars Result:\n",
            "shape: (3, 2)\n",
            "┌────────┬───────────┐\n",
            "│ origin ┆ avg_delay │\n",
            "│ ---    ┆ ---       │\n",
            "│ str    ┆ f64       │\n",
            "╞════════╪═══════════╡\n",
            "│ EWR    ┆ 15.107954 │\n",
            "│ JFK    ┆ 12.112159 │\n",
            "│ LGA    ┆ 10.346876 │\n",
            "└────────┴───────────┘\n"
          ]
        }
      ],
      "source": [
        "# Example: Let's implement Exercise 2.1 (average delay by origin) in Polars\n",
        "\n",
        "# SQL version (for reference)\n",
        "sql_result = ctx.execute(\"\"\"\n",
        "    SELECT\n",
        "        origin,\n",
        "        AVG(dep_delay) as avg_delay\n",
        "    FROM flights\n",
        "    WHERE dep_delay IS NOT NULL\n",
        "    GROUP BY origin\n",
        "    ORDER BY avg_delay DESC\n",
        "\"\"\")\n",
        "\n",
        "# Polars version\n",
        "polars_result = (\n",
        "    flights\n",
        "    .filter(pl.col('dep_delay').is_not_null())\n",
        "    .group_by('origin')\n",
        "    .agg(pl.col('dep_delay').mean().alias('avg_delay'))\n",
        "    .sort('avg_delay', descending=True)\n",
        ")\n",
        "print(\"SQL Result:\")\n",
        "print(sql_result)\n",
        "print(\"\\nPolars Result:\")\n",
        "print(polars_result)\n",
        "\n",
        "# Now implement one of your own queries in Polars below:\n",
        "# Your Polars code here\n"
      ]
    },
    {
      "cell_type": "code",
      "source": [
        "# Exercise 3.1\n",
        "sql_result = ctx.execute(\"\"\"\n",
        "SELECT f.carrier, a.name AS airline_name, f.flight, f.origin, f.dest\n",
        "FROM flights f\n",
        "JOIN airlines a ON f.carrier = a.carrier\n",
        "LIMIT 20\n",
        "\"\"\")\n",
        "#polars version\n",
        "\n",
        "polars_result= flights.join(\n",
        "    airlines,\n",
        "    on=\"carrier\",\n",
        "    how=\"left\"\n",
        ").select(pl.col(\"carrier\"), pl.col(\"name\").alias(\"airline_name\"), pl.col(\"flight\"), pl.col(\"origin\"), pl.col(\"dest\")).head(20)\n",
        "print(\"SQL Result:\")\n",
        "print(sql_result)\n",
        "print(\"\\nPolars Result:\")\n",
        "print(polars_result)"
      ],
      "metadata": {
        "colab": {
          "base_uri": "https://localhost:8080/"
        },
        "id": "10fTTf3iZvjM",
        "outputId": "d3d3b6fc-7730-4e10-af47-b3b01d13d27e"
      },
      "execution_count": null,
      "outputs": [
        {
          "output_type": "stream",
          "name": "stdout",
          "text": [
            "SQL Result:\n",
            "shape: (20, 5)\n",
            "┌─────────┬────────────────────────┬────────┬────────┬──────┐\n",
            "│ carrier ┆ airline_name           ┆ flight ┆ origin ┆ dest │\n",
            "│ ---     ┆ ---                    ┆ ---    ┆ ---    ┆ ---  │\n",
            "│ str     ┆ str                    ┆ i64    ┆ str    ┆ str  │\n",
            "╞═════════╪════════════════════════╪════════╪════════╪══════╡\n",
            "│ UA      ┆ United Air Lines Inc.  ┆ 1545   ┆ EWR    ┆ IAH  │\n",
            "│ UA      ┆ United Air Lines Inc.  ┆ 1714   ┆ LGA    ┆ IAH  │\n",
            "│ AA      ┆ American Airlines Inc. ┆ 1141   ┆ JFK    ┆ MIA  │\n",
            "│ B6      ┆ JetBlue Airways        ┆ 725    ┆ JFK    ┆ BQN  │\n",
            "│ DL      ┆ Delta Air Lines Inc.   ┆ 461    ┆ LGA    ┆ ATL  │\n",
            "│ …       ┆ …                      ┆ …      ┆ …      ┆ …    │\n",
            "│ B6      ┆ JetBlue Airways        ┆ 1806   ┆ JFK    ┆ BOS  │\n",
            "│ UA      ┆ United Air Lines Inc.  ┆ 1187   ┆ EWR    ┆ LAS  │\n",
            "│ B6      ┆ JetBlue Airways        ┆ 371    ┆ LGA    ┆ FLL  │\n",
            "│ MQ      ┆ Envoy Air              ┆ 4650   ┆ LGA    ┆ ATL  │\n",
            "│ B6      ┆ JetBlue Airways        ┆ 343    ┆ EWR    ┆ PBI  │\n",
            "└─────────┴────────────────────────┴────────┴────────┴──────┘\n",
            "\n",
            "Polars Result:\n",
            "shape: (20, 5)\n",
            "┌─────────┬────────────────────────┬────────┬────────┬──────┐\n",
            "│ carrier ┆ airline_name           ┆ flight ┆ origin ┆ dest │\n",
            "│ ---     ┆ ---                    ┆ ---    ┆ ---    ┆ ---  │\n",
            "│ str     ┆ str                    ┆ i64    ┆ str    ┆ str  │\n",
            "╞═════════╪════════════════════════╪════════╪════════╪══════╡\n",
            "│ UA      ┆ United Air Lines Inc.  ┆ 1545   ┆ EWR    ┆ IAH  │\n",
            "│ UA      ┆ United Air Lines Inc.  ┆ 1714   ┆ LGA    ┆ IAH  │\n",
            "│ AA      ┆ American Airlines Inc. ┆ 1141   ┆ JFK    ┆ MIA  │\n",
            "│ B6      ┆ JetBlue Airways        ┆ 725    ┆ JFK    ┆ BQN  │\n",
            "│ DL      ┆ Delta Air Lines Inc.   ┆ 461    ┆ LGA    ┆ ATL  │\n",
            "│ …       ┆ …                      ┆ …      ┆ …      ┆ …    │\n",
            "│ B6      ┆ JetBlue Airways        ┆ 1806   ┆ JFK    ┆ BOS  │\n",
            "│ UA      ┆ United Air Lines Inc.  ┆ 1187   ┆ EWR    ┆ LAS  │\n",
            "│ B6      ┆ JetBlue Airways        ┆ 371    ┆ LGA    ┆ FLL  │\n",
            "│ MQ      ┆ Envoy Air              ┆ 4650   ┆ LGA    ┆ ATL  │\n",
            "│ B6      ┆ JetBlue Airways        ┆ 343    ┆ EWR    ┆ PBI  │\n",
            "└─────────┴────────────────────────┴────────┴────────┴──────┘\n"
          ]
        }
      ]
    }
  ],
  "metadata": {
    "kernelspec": {
      "display_name": "Python 3",
      "language": "python",
      "name": "python3"
    },
    "language_info": {
      "codemirror_mode": {
        "name": "ipython",
        "version": 3
      },
      "file_extension": ".py",
      "mimetype": "text/x-python",
      "name": "python",
      "nbconvert_exporter": "python",
      "pygments_lexer": "ipython3",
      "version": "3.8.0"
    },
    "colab": {
      "provenance": []
    }
  },
  "nbformat": 4,
  "nbformat_minor": 0
}